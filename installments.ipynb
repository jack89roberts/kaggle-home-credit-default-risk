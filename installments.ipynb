{
 "cells": [
  {
   "cell_type": "markdown",
   "metadata": {},
   "source": [
    "## Installments"
   ]
  },
  {
   "cell_type": "code",
   "execution_count": null,
   "metadata": {
    "collapsed": true
   },
   "outputs": [],
   "source": [
    "import pandas as pd\n",
    "import numpy as np\n",
    "\n",
    "import lightgbm as lgb\n",
    "from sklearn.metrics import roc_auc_score, roc_curve\n",
    "\n",
    "import seaborn as sns\n",
    "import matplotlib.pyplot as plt\n",
    "%matplotlib inline"
   ]
  },
  {
   "cell_type": "code",
   "execution_count": null,
   "metadata": {
    "collapsed": true
   },
   "outputs": [],
   "source": [
    "save_files = True"
   ]
  },
  {
   "cell_type": "code",
   "execution_count": null,
   "metadata": {},
   "outputs": [],
   "source": [
    "# load installments file\n",
    "df_inst = pd.read_csv('input/installments_payments.csv')\n",
    "df_inst.info()\n",
    "display(df_inst.head())\n",
    "display(df_inst.describe())"
   ]
  },
  {
   "cell_type": "code",
   "execution_count": null,
   "metadata": {},
   "outputs": [],
   "source": [
    "df_inst['DAY_DIFF'] = df_inst['DAYS_INSTALMENT']-df_inst['DAYS_ENTRY_PAYMENT']\n",
    "df_inst['PAY_DIFF'] = df_inst['AMT_INSTALMENT']-df_inst['AMT_PAYMENT']\n",
    "\n",
    "df_inst.rename(columns={'NUM_INSTALMENT_VERSION':'VERSION',\n",
    "                        'NUM_INSTALMENT_NUMBER':'NUM',\n",
    "                        'DAYS_INSTALMENT':'DAY_DUE',\n",
    "                        'DAYS_ENTRY_PAYMENT':'DAY_PAY',\n",
    "                        'AMT_INSTALMENT':'AMT',\n",
    "                        'AMT_PAYMENT':'PAID'},\n",
    "               inplace=True)"
   ]
  },
  {
   "cell_type": "code",
   "execution_count": null,
   "metadata": {},
   "outputs": [],
   "source": [
    "id_prev_to_curr = df_inst.groupby('SK_ID_PREV').SK_ID_CURR.first()\n",
    "\n",
    "df_inst.drop('SK_ID_CURR',axis=1,inplace=True)"
   ]
  },
  {
   "cell_type": "code",
   "execution_count": null,
   "metadata": {},
   "outputs": [],
   "source": [
    "df_inst.sort_values(by=['SK_ID_PREV','DAY_DUE'],inplace=True)\n",
    "df_inst.reset_index(inplace=True,drop=True)\n",
    "\n",
    "df_inst.head()"
   ]
  },
  {
   "cell_type": "code",
   "execution_count": null,
   "metadata": {},
   "outputs": [],
   "source": [
    "agg_funcs = {\n",
    "    'VERSION':['nunique'],\n",
    "    'NUM':['first'],\n",
    "    'DAY_DUE':['min','max','first'],\n",
    "    'DAY_PAY':['min','max','first'],\n",
    "    'AMT':['min','max','first','mean'],\n",
    "    'PAID':['min','max','first','mean'],\n",
    "    'DAY_DIFF':['min','max','first','mean'],\n",
    "    'PAY_DIFF':['min','max','first','mean']\n",
    "}\n",
    "\n",
    "inst_grouped = df_inst.groupby('SK_ID_PREV').agg(agg_funcs)\n",
    "\n",
    "inst_grouped.columns = ['INST_'+'_'.join(x) for x in inst_grouped.columns.values]\n",
    "\n",
    "del df_inst\n",
    "\n",
    "inst_grouped.head()"
   ]
  },
  {
   "cell_type": "code",
   "execution_count": null,
   "metadata": {},
   "outputs": [],
   "source": [
    "inst_grouped['SK_ID_CURR'] = id_prev_to_curr\n",
    "\n",
    "inst_idcurr = inst_grouped.groupby('SK_ID_CURR').agg(['min','max','sum','mean'])\n",
    "inst_idcurr['INST_CNT'] = id_prev_to_curr.value_counts()\n",
    "\n",
    "inst_idcurr.columns = ['_'.join(x) for x in inst_idcurr.columns.values]\n",
    "inst_cols = inst_idcurr.columns\n",
    "\n",
    "del inst_grouped\n",
    "\n",
    "inst_idcurr.head()"
   ]
  },
  {
   "cell_type": "code",
   "execution_count": null,
   "metadata": {},
   "outputs": [],
   "source": [
    "print('loading train...')\n",
    "df_train = pd.read_csv('input/application_train.csv',index_col='SK_ID_CURR')\n",
    "\n",
    "print('merging train...')\n",
    "df_train = df_train.merge(inst_idcurr,how='left',left_index=True,right_index=True)\n",
    "\n",
    "if save_files:\n",
    "    print('saving train...')\n",
    "    df_train[inst_cols].to_csv('input/app_train_ALL_inst.csv')\n",
    "    \n",
    "    print('loading test...')\n",
    "    df_test = pd.read_csv('input/application_test.csv',index_col='SK_ID_CURR')\n",
    "\n",
    "    print('merging test...')\n",
    "    df_test = df_test.merge(inst_idcurr,how='left',left_index=True,right_index=True)\n",
    "   \n",
    "    print('saving test...')\n",
    "    df_test[inst_cols].to_csv('input/app_test_ALL_inst.csv')\n",
    "    \n",
    "del inst_idcurr\n",
    "\n",
    "display(df_train.head())\n",
    "\n",
    "print('Done!')"
   ]
  },
  {
   "cell_type": "markdown",
   "metadata": {},
   "source": [
    "## model"
   ]
  },
  {
   "cell_type": "code",
   "execution_count": null,
   "metadata": {
    "collapsed": true
   },
   "outputs": [],
   "source": [
    "def plot_roc_curve(y_true, y_pred, color='darkorange',plot_random=True,label='ROC curve'):\n",
    "    fpr, tpr, thresholds = roc_curve(y_true, y_pred)\n",
    "    score = roc_auc_score(y_true, y_pred)\n",
    "    \n",
    "    plt.plot(fpr, tpr, color='darkorange',\n",
    "             lw=2, label=label+' (area = %0.2f)' % score)\n",
    "    \n",
    "    if plot_random:\n",
    "        plt.plot([0, 1], [0, 1], color='navy', lw=2, linestyle='--')\n",
    "    \n",
    "    plt.xlim([0.0, 1.0])\n",
    "    plt.ylim([0.0, 1.05])\n",
    "    plt.xlabel('False Positive Rate')\n",
    "    plt.ylabel('True Positive Rate')\n",
    "    plt.title('ROC Curve')\n",
    "    plt.legend(loc=\"lower right\")\n",
    "    plt.show()"
   ]
  },
  {
   "cell_type": "code",
   "execution_count": null,
   "metadata": {},
   "outputs": [],
   "source": [
    "target_counts = df_train.TARGET.value_counts()\n",
    "targ1_weight = target_counts[0]/target_counts[1]\n",
    "weights = df_train.TARGET.replace({0:1, 1:targ1_weight}).values\n",
    "\n",
    "dtypes = df_train.dtypes\n",
    "cols_categ = dtypes[dtypes=='object'].index.tolist()\n",
    "for col in cols_categ:\n",
    "    df_train[col] = df_train[col].astype('category')\n",
    "    \n",
    "y_true = df_train.TARGET\n",
    "X = df_train.drop('TARGET',axis=1)\n",
    "train_data = lgb.Dataset(X, label=y_true, weight=weights)\n",
    "\n",
    "    \n",
    "# train\n",
    "param = {'objective':'binary', 'metric':'auc'}\n",
    "bst = lgb.train(param, train_data)\n",
    "\n",
    "#plot roc curve\n",
    "plt.figure()\n",
    "plot_roc_curve(y_true, bst.predict(X))"
   ]
  },
  {
   "cell_type": "code",
   "execution_count": null,
   "metadata": {},
   "outputs": [],
   "source": [
    "plt.figure(figsize=(10,30))\n",
    "\n",
    "feat_imp = pd.DataFrame({'split':bst.feature_importance(importance_type='split'),\n",
    "                         'gain':bst.feature_importance(importance_type='gain')},\n",
    "                        index=bst.feature_name())\n",
    "\n",
    "total_gain = feat_imp['gain'].sum()\n",
    "frac_gain = feat_imp['gain']/total_gain\n",
    "frac_gain = frac_gain.sort_values(ascending=False)\n",
    "\n",
    "display(frac_gain.head(30))\n",
    "\n",
    "plt.figure(figsize=(15,5))\n",
    "plt.subplot(1,2,1)\n",
    "plt.plot(np.arange(len(frac_gain))+1, frac_gain)\n",
    "plt.xlabel('n_features')\n",
    "plt.ylabel('frac gain')\n",
    "\n",
    "plt.subplot(1,2,2)\n",
    "plt.plot(np.arange(len(frac_gain))+1,frac_gain.cumsum())\n",
    "plt.xlabel('n_features')\n",
    "plt.ylabel('cumulative frac gain')"
   ]
  },
  {
   "cell_type": "code",
   "execution_count": null,
   "metadata": {
    "collapsed": true
   },
   "outputs": [],
   "source": [
    "# select top n columns from cc by importance\n",
    "n_cols = 60\n",
    "select_cols = frac_gain[frac_gain.index.str.contains('INST_')].index[:n_cols]\n",
    "\n",
    "if save_files:\n",
    "    df_train[select_cols].to_csv('input/app_train_SELECT_inst.csv')\n",
    "    df_test[select_cols].to_csv('input/app_test_SELECT_inst.csv')\n",
    "    \n",
    "frac_gain[select_cols]"
   ]
  }
 ],
 "metadata": {
  "kernelspec": {
   "display_name": "Python 3",
   "language": "python",
   "name": "python3"
  },
  "language_info": {
   "codemirror_mode": {
    "name": "ipython",
    "version": 3
   },
   "file_extension": ".py",
   "mimetype": "text/x-python",
   "name": "python",
   "nbconvert_exporter": "python",
   "pygments_lexer": "ipython3",
   "version": "3.6.3"
  }
 },
 "nbformat": 4,
 "nbformat_minor": 2
}
