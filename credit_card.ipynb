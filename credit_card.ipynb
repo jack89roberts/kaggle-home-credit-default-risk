{
 "cells": [
  {
   "cell_type": "markdown",
   "metadata": {},
   "source": [
    "## Credit Card Balance"
   ]
  },
  {
   "cell_type": "code",
   "execution_count": null,
   "metadata": {
    "collapsed": true
   },
   "outputs": [],
   "source": [
    "import pandas as pd\n",
    "import numpy as np\n",
    "\n",
    "import lightgbm as lgb\n",
    "from sklearn.metrics import roc_auc_score, roc_curve\n",
    "\n",
    "import seaborn as sns\n",
    "import matplotlib.pyplot as plt\n",
    "%matplotlib inline"
   ]
  },
  {
   "cell_type": "code",
   "execution_count": null,
   "metadata": {
    "collapsed": true
   },
   "outputs": [],
   "source": [
    "save_files = True"
   ]
  },
  {
   "cell_type": "code",
   "execution_count": null,
   "metadata": {},
   "outputs": [],
   "source": [
    "# load credit card file\n",
    "df_card = pd.read_csv('input/credit_card_balance.csv')\n",
    "df_card.info()\n",
    "df_card.head()"
   ]
  },
  {
   "cell_type": "code",
   "execution_count": null,
   "metadata": {},
   "outputs": [],
   "source": [
    "df_card[df_card.SK_ID_PREV==2562384].sort_values(by='MONTHS_BALANCE').head(10)"
   ]
  },
  {
   "cell_type": "code",
   "execution_count": null,
   "metadata": {},
   "outputs": [],
   "source": [
    "# relationship between SK_ID_PREV and SK_ID_CURR\n",
    "id_prev_curr = df_card.groupby('SK_ID_PREV').SK_ID_CURR.first()\n",
    "display(id_prev_curr.head(5))\n",
    "\n",
    "# drop SK_ID_CURR from df_card\n",
    "df_card.drop('SK_ID_CURR',axis=1,inplace=True)"
   ]
  },
  {
   "cell_type": "code",
   "execution_count": null,
   "metadata": {},
   "outputs": [],
   "source": [
    "# one categorical variable: NAME_CONTRACT_STATUS\n",
    "df_card.NAME_CONTRACT_STATUS.value_counts()"
   ]
  },
  {
   "cell_type": "code",
   "execution_count": null,
   "metadata": {},
   "outputs": [],
   "source": [
    "status = df_card.groupby('SK_ID_PREV').NAME_CONTRACT_STATUS.value_counts().unstack(fill_value=0)\n",
    "status[status.Refused==1]"
   ]
  },
  {
   "cell_type": "code",
   "execution_count": null,
   "metadata": {},
   "outputs": [],
   "source": [
    "df_card[df_card.SK_ID_PREV==1211141].sort_values(by='MONTHS_BALANCE')[['MONTHS_BALANCE','NAME_CONTRACT_STATUS','AMT_BALANCE']].head(10)"
   ]
  },
  {
   "cell_type": "code",
   "execution_count": null,
   "metadata": {},
   "outputs": [],
   "source": [
    "df_card[(df_card.SK_ID_PREV==1211141)].sort_values(by='MONTHS_BALANCE').head(10).T"
   ]
  },
  {
   "cell_type": "code",
   "execution_count": null,
   "metadata": {
    "scrolled": false
   },
   "outputs": [],
   "source": [
    "tmp=df_card[df_card.SK_ID_PREV==1468118].sort_values(by='MONTHS_BALANCE')\n",
    "plt.plot(tmp.MONTHS_BALANCE,tmp.AMT_BALANCE)\n",
    "plt.plot(tmp.MONTHS_BALANCE,tmp.AMT_INST_MIN_REGULARITY)\n",
    "plt.plot(tmp.MONTHS_BALANCE,tmp.AMT_PAYMENT_CURRENT)\n",
    "plt.plot(tmp.MONTHS_BALANCE,tmp.AMT_DRAWINGS_CURRENT)\n",
    "\n",
    "\n",
    "tmp['my_diff'] = tmp.AMT_DRAWINGS_CURRENT+tmp.AMT_INST_MIN_REGULARITY-tmp.AMT_PAYMENT_TOTAL_CURRENT\n",
    "tmp['balance_diff'] = tmp.AMT_BALANCE.diff()\n",
    "\n",
    "tmp[['AMT_PAYMENT_TOTAL_CURRENT','AMT_INST_MIN_REGULARITY','AMT_DRAWINGS_CURRENT',\n",
    "     'AMT_BALANCE','balance_diff','NAME_CONTRACT_STATUS']].head(10)\n",
    "\n",
    "del tmp"
   ]
  },
  {
   "cell_type": "code",
   "execution_count": null,
   "metadata": {},
   "outputs": [],
   "source": [
    "df_card['PAYMENT_DIFF'] = df_card.AMT_INST_MIN_REGULARITY - df_card.AMT_PAYMENT_TOTAL_CURRENT"
   ]
  },
  {
   "cell_type": "code",
   "execution_count": null,
   "metadata": {},
   "outputs": [],
   "source": [
    "df_card = df_card.sort_values(by=['SK_ID_PREV','MONTHS_BALANCE']).reset_index(drop=True)\n",
    "\n",
    "df_card = pd.get_dummies(df_card)"
   ]
  },
  {
   "cell_type": "code",
   "execution_count": null,
   "metadata": {},
   "outputs": [],
   "source": [
    "df_card.rename(columns={'MONTHS_BALANCE':'MONTH',\n",
    "                        'AMT_BALANCE':'BALANCE',\n",
    "                        'AMT_CREDIT_LIMIT_ACTUAL':'LIMIT',\n",
    "                        'AMT_DRAWINGS_ATM_CURRENT':'AMT_ATM',\n",
    "                        'AMT_DRAWINGS_CURRENT':'AMT_DRAW',\n",
    "                        'AMT_DRAWINGS_OTHER_CURRENT':'AMT_OTHER',\n",
    "                        'AMT_DRAWINGS_POS_CURRENT':'AMT_POS',\n",
    "                        'AMT_INST_MIN_REGULARITY':'MIN_INST',\n",
    "                        'AMT_PAYMENT_CURRENT':'PAID',\n",
    "                        'AMT_PAYMENT_TOTAL_CURRENT':'PAID_TOT',\n",
    "                        'AMT_RECEIVABLE_PRINCIPAL':'PRINC',\n",
    "                        'AMT_RECIVABLE':'RECIV',\n",
    "                        'AMT_TOTAL_RECEIVABLE':'RECIV_TOT',\n",
    "                        'CNT_DRAWINGS_ATM_CURRENT':'CNT_ATM',\n",
    "                        'CNT_DRAWINGS_CURRENT':'CNT_DRAW',\n",
    "                        'CNT_DRAWINGS_OTHER_CURRENT':'CNT_OTHER',\n",
    "                        'CNT_DRAWINGS_POS_CURRENT':'CNT_POS',\n",
    "                        'CNT_INSTALMENT_MATURE_CUM':'CNT_INST',\n",
    "                        'NAME_CONTRACT_STATUS_Active':'STAT_Active',\n",
    "                        'NAME_CONTRACT_STATUS_Approved':'STAT_Appr',\n",
    "                        'NAME_CONTRACT_STATUS_Completed':'STAT_Compl',\n",
    "                        'NAME_CONTRACT_STATUS_Demand':'STAT_Deman',\n",
    "                        'NAME_CONTRACT_STATUS_Refused':'STAT_Refu',\n",
    "                        'NAME_CONTRACT_STATUS_Sent proposal':'STAT_Sent',\n",
    "                        'NAME_CONTRACT_STATUS_Signed':'STAT_Sign'},\n",
    "               inplace=True)\n",
    "\n",
    "df_card.head()"
   ]
  },
  {
   "cell_type": "code",
   "execution_count": null,
   "metadata": {},
   "outputs": [],
   "source": [
    "card_grouped = df_card.groupby('SK_ID_PREV').agg(['first','last','mean','max','min'])\n",
    "\n",
    "card_grouped.columns = ['CC_'+'_'.join(x) for x in card_grouped.columns.values]\n",
    "\n",
    "del df_card\n",
    "\n",
    "card_grouped.head()"
   ]
  },
  {
   "cell_type": "code",
   "execution_count": null,
   "metadata": {},
   "outputs": [],
   "source": [
    "drop_cols = card_grouped.sum()[card_grouped.abs().sum()==0].index.tolist()\n",
    "print(drop_cols)\n",
    "\n",
    "card_grouped.drop(drop_cols,axis=1,inplace=True)"
   ]
  },
  {
   "cell_type": "code",
   "execution_count": null,
   "metadata": {},
   "outputs": [],
   "source": [
    "card_grouped['SK_ID_CURR'] = id_prev_curr\n",
    "\n",
    "cc_idcurr = card_grouped.groupby('SK_ID_CURR').agg(['min','max','sum','mean'])\n",
    "cc_idcurr['CC_count'] = card_grouped.SK_ID_CURR.value_counts()\n",
    "\n",
    "cc_idcurr.columns = ['_'.join(x) for x in cc_idcurr.columns.values]\n",
    "cc_cols = cc_idcurr.columns\n",
    "\n",
    "del card_grouped\n",
    "\n",
    "cc_idcurr.head()"
   ]
  },
  {
   "cell_type": "code",
   "execution_count": null,
   "metadata": {},
   "outputs": [],
   "source": [
    "print('loading train...')\n",
    "df_train = pd.read_csv('input/application_train.csv',index_col='SK_ID_CURR')\n",
    "\n",
    "print('merging train...')\n",
    "df_train = df_train.merge(cc_idcurr,how='left',left_index=True,right_index=True)\n",
    "\n",
    "if save_files:\n",
    "    print('saving train...')\n",
    "    df_train[cc_cols].to_csv('input/app_train_ALL_cc.csv')\n",
    "    \n",
    "    print('loading test...')\n",
    "    df_test = pd.read_csv('input/application_test.csv',index_col='SK_ID_CURR')\n",
    "\n",
    "    print('merging test...')\n",
    "    df_test = df_test.merge(cc_idcurr,how='left',left_index=True,right_index=True)\n",
    "\n",
    "    \n",
    "    print('saving test...')\n",
    "    df_test[cc_cols].to_csv('input/app_test_ALL_cc.csv')\n",
    "    \n",
    "del cc_idcurr\n",
    "\n",
    "display(df_train.head())\n",
    "\n",
    "print('Done!')"
   ]
  },
  {
   "cell_type": "markdown",
   "metadata": {},
   "source": [
    "## model"
   ]
  },
  {
   "cell_type": "code",
   "execution_count": null,
   "metadata": {
    "collapsed": true
   },
   "outputs": [],
   "source": [
    "def plot_roc_curve(y_true, y_pred, color='darkorange',plot_random=True,label='ROC curve'):\n",
    "    fpr, tpr, thresholds = roc_curve(y_true, y_pred)\n",
    "    score = roc_auc_score(y_true, y_pred)\n",
    "    \n",
    "    plt.plot(fpr, tpr, color='darkorange',\n",
    "             lw=2, label=label+' (area = %0.2f)' % score)\n",
    "    \n",
    "    if plot_random:\n",
    "        plt.plot([0, 1], [0, 1], color='navy', lw=2, linestyle='--')\n",
    "    \n",
    "    plt.xlim([0.0, 1.0])\n",
    "    plt.ylim([0.0, 1.05])\n",
    "    plt.xlabel('False Positive Rate')\n",
    "    plt.ylabel('True Positive Rate')\n",
    "    plt.title('ROC Curve')\n",
    "    plt.legend(loc=\"lower right\")\n",
    "    plt.show()"
   ]
  },
  {
   "cell_type": "code",
   "execution_count": null,
   "metadata": {},
   "outputs": [],
   "source": [
    "target_counts = df_train.TARGET.value_counts()\n",
    "targ1_weight = target_counts[0]/target_counts[1]\n",
    "weights = df_train.TARGET.replace({0:1, 1:targ1_weight}).values\n",
    "\n",
    "dtypes = df_train.dtypes\n",
    "cols_categ = dtypes[dtypes=='object'].index.tolist()\n",
    "for col in cols_categ:\n",
    "    df_train[col] = df_train[col].astype('category')\n",
    "    \n",
    "y_true = df_train.TARGET\n",
    "X = df_train.drop('TARGET',axis=1)\n",
    "train_data = lgb.Dataset(X, label=y_true, weight=weights)\n",
    "\n",
    "    \n",
    "# train\n",
    "param = {'objective':'binary', 'metric':'auc'}\n",
    "bst = lgb.train(param, train_data)\n",
    "\n",
    "#plot roc curve\n",
    "plt.figure()\n",
    "plot_roc_curve(y_true, bst.predict(X))"
   ]
  },
  {
   "cell_type": "code",
   "execution_count": null,
   "metadata": {},
   "outputs": [],
   "source": [
    "plt.figure(figsize=(10,30))\n",
    "\n",
    "feat_imp = pd.DataFrame({'split':bst.feature_importance(importance_type='split'),\n",
    "                         'gain':bst.feature_importance(importance_type='gain')},\n",
    "                        index=bst.feature_name())\n",
    "\n",
    "total_gain = feat_imp['gain'].sum()\n",
    "frac_gain = feat_imp['gain']/total_gain\n",
    "frac_gain = frac_gain.sort_values(ascending=False)\n",
    "\n",
    "display(frac_gain.head(30))\n",
    "\n",
    "plt.figure(figsize=(15,5))\n",
    "plt.subplot(1,2,1)\n",
    "plt.plot(np.arange(len(frac_gain))+1, frac_gain)\n",
    "plt.xlabel('n_features')\n",
    "plt.ylabel('frac gain')\n",
    "\n",
    "plt.subplot(1,2,2)\n",
    "plt.plot(np.arange(len(frac_gain))+1,frac_gain.cumsum())\n",
    "plt.xlabel('n_features')\n",
    "plt.ylabel('cumulative frac gain')"
   ]
  },
  {
   "cell_type": "code",
   "execution_count": null,
   "metadata": {
    "collapsed": true
   },
   "outputs": [],
   "source": [
    "# select top n columns from cc by importance\n",
    "n_cols = 60\n",
    "select_cols = frac_gain[frac_gain.index.str.contains('CC_')].index[:n_cols]\n",
    "\n",
    "if save_files:\n",
    "    df_train[select_cols].to_csv('input/app_train_SELECT_cc.csv')\n",
    "    df_test[select_cols].to_csv('input/app_test_SELECT_cc.csv')"
   ]
  }
 ],
 "metadata": {
  "kernelspec": {
   "display_name": "Python 3",
   "language": "python",
   "name": "python3"
  },
  "language_info": {
   "codemirror_mode": {
    "name": "ipython",
    "version": 3
   },
   "file_extension": ".py",
   "mimetype": "text/x-python",
   "name": "python",
   "nbconvert_exporter": "python",
   "pygments_lexer": "ipython3",
   "version": "3.6.3"
  }
 },
 "nbformat": 4,
 "nbformat_minor": 2
}
