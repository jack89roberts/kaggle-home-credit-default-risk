{
 "cells": [
  {
   "cell_type": "code",
   "execution_count": 163,
   "metadata": {
    "collapsed": true
   },
   "outputs": [],
   "source": [
    "import pandas as pd\n",
    "import numpy as np\n",
    "import seaborn as sns\n",
    "import matplotlib.pyplot as plt\n",
    "%matplotlib inline"
   ]
  },
  {
   "cell_type": "code",
   "execution_count": 164,
   "metadata": {},
   "outputs": [
    {
     "name": "stdout",
     "output_type": "stream",
     "text": [
      "<class 'pandas.core.frame.DataFrame'>\n",
      "Int64Index: 307511 entries, 100002 to 456255\n",
      "Columns: 121 entries, TARGET to AMT_REQ_CREDIT_BUREAU_YEAR\n",
      "dtypes: float64(65), int64(40), object(16)\n",
      "memory usage: 286.2+ MB\n",
      "-----------\n",
      "<class 'pandas.core.frame.DataFrame'>\n",
      "Int64Index: 48744 entries, 100001 to 456250\n",
      "Columns: 120 entries, NAME_CONTRACT_TYPE to AMT_REQ_CREDIT_BUREAU_YEAR\n",
      "dtypes: float64(65), int64(39), object(16)\n",
      "memory usage: 45.0+ MB\n"
     ]
    }
   ],
   "source": [
    "df_train = pd.read_csv('input/application_train.csv',index_col='SK_ID_CURR')\n",
    "df_train.info()\n",
    "print('-----------')\n",
    "df_test = pd.read_csv('input/application_test.csv',index_col='SK_ID_CURR')\n",
    "df_test.info()"
   ]
  },
  {
   "cell_type": "markdown",
   "metadata": {},
   "source": [
    "# Bureau and Bureau Balance"
   ]
  },
  {
   "cell_type": "markdown",
   "metadata": {},
   "source": [
    "## Bureau Balance"
   ]
  },
  {
   "cell_type": "code",
   "execution_count": 165,
   "metadata": {},
   "outputs": [
    {
     "name": "stdout",
     "output_type": "stream",
     "text": [
      "<class 'pandas.core.frame.DataFrame'>\n",
      "RangeIndex: 27299925 entries, 0 to 27299924\n",
      "Data columns (total 3 columns):\n",
      "SK_ID_BUREAU      int64\n",
      "MONTHS_BALANCE    int64\n",
      "STATUS            object\n",
      "dtypes: int64(2), object(1)\n",
      "memory usage: 624.8+ MB\n"
     ]
    }
   ],
   "source": [
    "# load bureau balance file\n",
    "df_balance = pd.read_csv('input/bureau_balance.csv')\n",
    "df_balance.info()"
   ]
  },
  {
   "cell_type": "code",
   "execution_count": 166,
   "metadata": {},
   "outputs": [
    {
     "data": {
      "text/html": [
       "<div>\n",
       "<style>\n",
       "    .dataframe thead tr:only-child th {\n",
       "        text-align: right;\n",
       "    }\n",
       "\n",
       "    .dataframe thead th {\n",
       "        text-align: left;\n",
       "    }\n",
       "\n",
       "    .dataframe tbody tr th {\n",
       "        vertical-align: top;\n",
       "    }\n",
       "</style>\n",
       "<table border=\"1\" class=\"dataframe\">\n",
       "  <thead>\n",
       "    <tr style=\"text-align: right;\">\n",
       "      <th></th>\n",
       "      <th>SK_ID_BUREAU</th>\n",
       "      <th>MONTHS_BALANCE</th>\n",
       "      <th>STATUS</th>\n",
       "    </tr>\n",
       "  </thead>\n",
       "  <tbody>\n",
       "    <tr>\n",
       "      <th>536</th>\n",
       "      <td>5715797</td>\n",
       "      <td>0</td>\n",
       "      <td>0</td>\n",
       "    </tr>\n",
       "    <tr>\n",
       "      <th>537</th>\n",
       "      <td>5715797</td>\n",
       "      <td>-1</td>\n",
       "      <td>1</td>\n",
       "    </tr>\n",
       "    <tr>\n",
       "      <th>538</th>\n",
       "      <td>5715797</td>\n",
       "      <td>-2</td>\n",
       "      <td>1</td>\n",
       "    </tr>\n",
       "    <tr>\n",
       "      <th>539</th>\n",
       "      <td>5715797</td>\n",
       "      <td>-3</td>\n",
       "      <td>0</td>\n",
       "    </tr>\n",
       "    <tr>\n",
       "      <th>540</th>\n",
       "      <td>5715797</td>\n",
       "      <td>-4</td>\n",
       "      <td>0</td>\n",
       "    </tr>\n",
       "    <tr>\n",
       "      <th>541</th>\n",
       "      <td>5715797</td>\n",
       "      <td>-5</td>\n",
       "      <td>0</td>\n",
       "    </tr>\n",
       "    <tr>\n",
       "      <th>542</th>\n",
       "      <td>5715797</td>\n",
       "      <td>-6</td>\n",
       "      <td>0</td>\n",
       "    </tr>\n",
       "    <tr>\n",
       "      <th>543</th>\n",
       "      <td>5715797</td>\n",
       "      <td>-7</td>\n",
       "      <td>2</td>\n",
       "    </tr>\n",
       "    <tr>\n",
       "      <th>544</th>\n",
       "      <td>5715797</td>\n",
       "      <td>-8</td>\n",
       "      <td>1</td>\n",
       "    </tr>\n",
       "    <tr>\n",
       "      <th>545</th>\n",
       "      <td>5715797</td>\n",
       "      <td>-9</td>\n",
       "      <td>0</td>\n",
       "    </tr>\n",
       "  </tbody>\n",
       "</table>\n",
       "</div>"
      ],
      "text/plain": [
       "     SK_ID_BUREAU  MONTHS_BALANCE STATUS\n",
       "536       5715797               0      0\n",
       "537       5715797              -1      1\n",
       "538       5715797              -2      1\n",
       "539       5715797              -3      0\n",
       "540       5715797              -4      0\n",
       "541       5715797              -5      0\n",
       "542       5715797              -6      0\n",
       "543       5715797              -7      2\n",
       "544       5715797              -8      1\n",
       "545       5715797              -9      0"
      ]
     },
     "metadata": {},
     "output_type": "display_data"
    },
    {
     "data": {
      "text/plain": [
       "C    13646993\n",
       "0     7499507\n",
       "X     5810482\n",
       "1      242347\n",
       "5       62406\n",
       "2       23419\n",
       "3        8924\n",
       "4        5847\n",
       "Name: STATUS, dtype: int64"
      ]
     },
     "metadata": {},
     "output_type": "display_data"
    }
   ],
   "source": [
    "display(df_balance[df_balance['SK_ID_BUREAU']==5715797].head(10))\n",
    "display(df_balance['STATUS'].value_counts())"
   ]
  },
  {
   "cell_type": "code",
   "execution_count": null,
   "metadata": {},
   "outputs": [
    {
     "data": {
      "text/html": [
       "<div>\n",
       "<style>\n",
       "    .dataframe thead tr:only-child th {\n",
       "        text-align: right;\n",
       "    }\n",
       "\n",
       "    .dataframe thead th {\n",
       "        text-align: left;\n",
       "    }\n",
       "\n",
       "    .dataframe tbody tr th {\n",
       "        vertical-align: top;\n",
       "    }\n",
       "</style>\n",
       "<table border=\"1\" class=\"dataframe\">\n",
       "  <thead>\n",
       "    <tr style=\"text-align: right;\">\n",
       "      <th></th>\n",
       "      <th>SK_ID_BUREAU</th>\n",
       "      <th>BALANCE_STATUS_mean</th>\n",
       "      <th>BALANCE_STATUS_max</th>\n",
       "      <th>BALANCE_STATUS_first</th>\n",
       "      <th>BALANCE_STATUS_std</th>\n",
       "      <th>BALANCE_STATUS_sum</th>\n",
       "    </tr>\n",
       "  </thead>\n",
       "  <tbody>\n",
       "    <tr>\n",
       "      <th>0</th>\n",
       "      <td>5001710</td>\n",
       "      <td>0.000000</td>\n",
       "      <td>0</td>\n",
       "      <td>0</td>\n",
       "      <td>0.000000</td>\n",
       "      <td>0</td>\n",
       "    </tr>\n",
       "    <tr>\n",
       "      <th>1</th>\n",
       "      <td>5001711</td>\n",
       "      <td>0.000000</td>\n",
       "      <td>0</td>\n",
       "      <td>0</td>\n",
       "      <td>0.000000</td>\n",
       "      <td>0</td>\n",
       "    </tr>\n",
       "    <tr>\n",
       "      <th>2</th>\n",
       "      <td>5001712</td>\n",
       "      <td>0.000000</td>\n",
       "      <td>0</td>\n",
       "      <td>0</td>\n",
       "      <td>0.000000</td>\n",
       "      <td>0</td>\n",
       "    </tr>\n",
       "    <tr>\n",
       "      <th>3</th>\n",
       "      <td>5001716</td>\n",
       "      <td>0.000000</td>\n",
       "      <td>0</td>\n",
       "      <td>0</td>\n",
       "      <td>0.000000</td>\n",
       "      <td>0</td>\n",
       "    </tr>\n",
       "    <tr>\n",
       "      <th>4</th>\n",
       "      <td>5001717</td>\n",
       "      <td>0.000000</td>\n",
       "      <td>0</td>\n",
       "      <td>0</td>\n",
       "      <td>0.000000</td>\n",
       "      <td>0</td>\n",
       "    </tr>\n",
       "    <tr>\n",
       "      <th>5</th>\n",
       "      <td>5001718</td>\n",
       "      <td>0.076923</td>\n",
       "      <td>1</td>\n",
       "      <td>0</td>\n",
       "      <td>0.271746</td>\n",
       "      <td>2</td>\n",
       "    </tr>\n",
       "    <tr>\n",
       "      <th>6</th>\n",
       "      <td>5001719</td>\n",
       "      <td>0.000000</td>\n",
       "      <td>0</td>\n",
       "      <td>0</td>\n",
       "      <td>0.000000</td>\n",
       "      <td>0</td>\n",
       "    </tr>\n",
       "    <tr>\n",
       "      <th>7</th>\n",
       "      <td>5001720</td>\n",
       "      <td>0.194444</td>\n",
       "      <td>1</td>\n",
       "      <td>1</td>\n",
       "      <td>0.401386</td>\n",
       "      <td>7</td>\n",
       "    </tr>\n",
       "    <tr>\n",
       "      <th>8</th>\n",
       "      <td>5001721</td>\n",
       "      <td>0.000000</td>\n",
       "      <td>0</td>\n",
       "      <td>0</td>\n",
       "      <td>0.000000</td>\n",
       "      <td>0</td>\n",
       "    </tr>\n",
       "    <tr>\n",
       "      <th>9</th>\n",
       "      <td>5001722</td>\n",
       "      <td>0.425532</td>\n",
       "      <td>1</td>\n",
       "      <td>0</td>\n",
       "      <td>0.499769</td>\n",
       "      <td>20</td>\n",
       "    </tr>\n",
       "  </tbody>\n",
       "</table>\n",
       "</div>"
      ],
      "text/plain": [
       "   SK_ID_BUREAU  BALANCE_STATUS_mean  BALANCE_STATUS_max  \\\n",
       "0       5001710             0.000000                   0   \n",
       "1       5001711             0.000000                   0   \n",
       "2       5001712             0.000000                   0   \n",
       "3       5001716             0.000000                   0   \n",
       "4       5001717             0.000000                   0   \n",
       "5       5001718             0.076923                   1   \n",
       "6       5001719             0.000000                   0   \n",
       "7       5001720             0.194444                   1   \n",
       "8       5001721             0.000000                   0   \n",
       "9       5001722             0.425532                   1   \n",
       "\n",
       "   BALANCE_STATUS_first  BALANCE_STATUS_std  BALANCE_STATUS_sum  \n",
       "0                     0            0.000000                   0  \n",
       "1                     0            0.000000                   0  \n",
       "2                     0            0.000000                   0  \n",
       "3                     0            0.000000                   0  \n",
       "4                     0            0.000000                   0  \n",
       "5                     0            0.271746                   2  \n",
       "6                     0            0.000000                   0  \n",
       "7                     1            0.401386                   7  \n",
       "8                     0            0.000000                   0  \n",
       "9                     0            0.499769                  20  "
      ]
     },
     "execution_count": 167,
     "metadata": {},
     "output_type": "execute_result"
    }
   ],
   "source": [
    "# select numeric statuses only\n",
    "rows = (df_balance.STATUS!='X') & (df_balance.STATUS!='C')\n",
    "cols = ['SK_ID_BUREAU','STATUS']\n",
    "status = df_balance.loc[rows,cols].astype(int)\n",
    "\n",
    "# aggregate status info\n",
    "funcs = ['mean','max','first','std','sum'] # first gives most recent status\n",
    "status = status.groupby('SK_ID_BUREAU').agg(funcs)\n",
    "\n",
    "# rename columns\n",
    "status.columns = ['BALANCE_'+'_'.join(x) for x in status.columns.values]\n",
    "\n",
    "# reset index so SK_ID_BUREAU a separate column\n",
    "status.reset_index(inplace=True)\n",
    "\n",
    "status.head(10)"
   ]
  },
  {
   "cell_type": "markdown",
   "metadata": {},
   "source": [
    "## Bureau"
   ]
  },
  {
   "cell_type": "code",
   "execution_count": null,
   "metadata": {
    "collapsed": true
   },
   "outputs": [],
   "source": [
    "# load bureau file\n",
    "df_bureau = pd.read_csv('input/bureau.csv')\n",
    "df_bureau.info()\n",
    "display(df_bureau.head())\n",
    "display(df_bureau.describe())"
   ]
  },
  {
   "cell_type": "code",
   "execution_count": null,
   "metadata": {
    "collapsed": true
   },
   "outputs": [],
   "source": [
    "# customer with apparently ~100 million credit, including 3 million for a car?\n",
    "display(df_bureau[df_bureau.SK_ID_CURR==386819])\n",
    "\n",
    "df_bureau.AMT_CREDIT_SUM.plot.box()"
   ]
  },
  {
   "cell_type": "code",
   "execution_count": null,
   "metadata": {
    "collapsed": true
   },
   "outputs": [],
   "source": [
    "print('bureau.csv unique ids:',df_bureau.SK_ID_BUREAU.nunique())\n",
    "print('bureau_balance.csv unique ids:',df_balance.SK_ID_BUREAU.nunique())\n",
    "print('bureau ids in bureau_balance:',df_bureau.SK_ID_BUREAU.isin(df_balance.SK_ID_BUREAU.unique()).sum())"
   ]
  },
  {
   "cell_type": "code",
   "execution_count": null,
   "metadata": {
    "collapsed": true,
    "scrolled": false
   },
   "outputs": [],
   "source": [
    "# merge status history from bureau_balance.csv with bureau.csv\n",
    "df_bureau = df_bureau.merge(status, how='left', on='SK_ID_BUREAU')\n",
    "\n",
    "display(df_bureau[status.columns].describe())\n",
    "\n",
    "# don't need the bureau id anymore\n",
    "df_bureau.drop('SK_ID_BUREAU',axis=1,inplace=True)\n",
    "\n",
    "# don't need balance df anymore\n",
    "del df_balance, status"
   ]
  },
  {
   "cell_type": "code",
   "execution_count": null,
   "metadata": {
    "collapsed": true
   },
   "outputs": [],
   "source": [
    "# shorten some strings\n",
    "df_bureau['CREDIT_ACTIVE'] = df_bureau['CREDIT_ACTIVE'].replace({'Bad debt':'Bad'})\n",
    "df_bureau['CREDIT_CURRENCY'] = df_bureau['CREDIT_CURRENCY'].str.replace('currency ','')\n",
    "df_bureau['CREDIT_TYPE'] = df_bureau['CREDIT_TYPE'].replace({'Another type of loan':'Other',\n",
    "                                                             'Car loan':'Car',\n",
    "                                                             'Cash loan (non-earmarked)':'Cash',\n",
    "                                                             'Consumer credit':'Consumer',\n",
    "                                                             'Credit card':'Card',\n",
    "                                                             'Interbank credit':'Interbank',\n",
    "                                                             'Loan for business development':'Business',\n",
    "                                                             'Loan for purchase of shares (margin lending)':'Shares',\n",
    "                                                             'Loan for the purchase of equipment':'Equipment',\n",
    "                                                             'Loan for working capital replenishment':'Capital',\n",
    "                                                             'Mobile operator loan':'Mobile',\n",
    "                                                             'Real estate loan':'Estate',\n",
    "                                                             'Unknown type of loan':np.nan})"
   ]
  },
  {
   "cell_type": "code",
   "execution_count": null,
   "metadata": {
    "collapsed": true
   },
   "outputs": [],
   "source": [
    "# convert all categoricals to dummies\n",
    "numeric_cols = [col for col in df_bureau.columns if df_bureau[col].dtype is not 'object']\n",
    "df_bureau = pd.get_dummies(df_bureau,columns=['CREDIT_CURRENCY','CREDIT_TYPE'])\n",
    "\n",
    "exclude_cols = ['SK_ID_CURR','CREDIT_ACTIVE']\n",
    "dummy_cols = [col for col in df_bureau.columns if col not in numeric_cols and not in exclude_cols]\n",
    "numeric_cols = [col for col in df_bureau.columns if col not in dummy_cols and not in exclude_cols]\n",
    "\n",
    "df_bureau.describe()"
   ]
  },
  {
   "cell_type": "code",
   "execution_count": null,
   "metadata": {
    "collapsed": true
   },
   "outputs": [],
   "source": [
    "agg_funcs = {}\n",
    "for col in dummy_cols:\n",
    "    agg_funcs[col] = ['count','mean']\n",
    "\n",
    "for col in numeric_cols:\n",
    "    agg_funcs[col] = ['mean','max','min','std']\n",
    "\n",
    "agg_funcs"
   ]
  },
  {
   "cell_type": "code",
   "execution_count": null,
   "metadata": {
    "collapsed": true
   },
   "outputs": [],
   "source": [
    "df_bureau.groupby(['SK_ID_CURR','CREDIT_ACTIVE']).agg(agg_funcs).info()"
   ]
  },
  {
   "cell_type": "code",
   "execution_count": null,
   "metadata": {
    "collapsed": true
   },
   "outputs": [],
   "source": []
  },
  {
   "cell_type": "markdown",
   "metadata": {},
   "source": [
    "## OLD"
   ]
  },
  {
   "cell_type": "code",
   "execution_count": null,
   "metadata": {
    "collapsed": true
   },
   "outputs": [],
   "source": [
    "tmp=df_bureau.groupby('SK_ID_CURR').BALANCE_STATUS_mean.agg(['mean','max','min'])\n",
    "(tmp['min']>0).value_counts()"
   ]
  },
  {
   "cell_type": "code",
   "execution_count": null,
   "metadata": {
    "collapsed": true
   },
   "outputs": [],
   "source": [
    "df_train['BUREAU_CNT_PREV_CREDIT'] = df_bureau.SK_ID_CURR.value_counts()\n",
    "df_train['BUREAU_CNT_PREV_CREDIT'].fillna(0,inplace=True)\n",
    "\n",
    "sns.kdeplot(df_train.loc[df_train['TARGET'] == 0, 'BUREAU_CNT_PREV_CREDIT'].dropna(), label='target == 0')\n",
    "sns.kdeplot(df_train.loc[df_train['TARGET'] == 1, 'BUREAU_CNT_PREV_CREDIT'].dropna(), label='target == 1')\n",
    "plt.xlim([-2.5,20])\n",
    "plt.ylim([0,0.15])\n",
    "plt.xlabel('BUREAU_CNT_PREV_CREDIT')\n",
    "# people without previous credit more likely to default?\n",
    "\n",
    "plt.figure(figsize=(15,5))\n",
    "sns.barplot(x='BUREAU_CNT_PREV_CREDIT',y='TARGET',data=df_train)\n",
    "plt.xticks(rotation=90);"
   ]
  },
  {
   "cell_type": "code",
   "execution_count": null,
   "metadata": {
    "collapsed": true,
    "scrolled": true
   },
   "outputs": [],
   "source": [
    "cnt_credit = df_bureau.groupby('SK_ID_CURR').CREDIT_ACTIVE.value_counts().unstack(fill_value=0)\n",
    "cnt_credit.columns = 'BUREAU_CNT_CREDIT_'+cnt_credit.columns.values\n",
    "\n",
    "df_train = df_train.merge(cnt_credit,how='left',left_index=True,right_index=True)\n",
    "\n",
    "for col in cnt_credit.columns:\n",
    "    plt.figure()\n",
    "    sns.barplot(x=col,y='TARGET',data=df_train)\n",
    "    plt.xticks(rotation=90)"
   ]
  },
  {
   "cell_type": "code",
   "execution_count": null,
   "metadata": {
    "collapsed": true,
    "scrolled": true
   },
   "outputs": [],
   "source": [
    "cnt_curr = df_bureau.groupby('SK_ID_CURR').CREDIT_CURRENCY.value_counts().unstack(fill_value=0)\n",
    "cnt_curr.columns = 'BUREAU_CNT_'+cnt_curr.columns.values\n",
    "\n",
    "df_train = df_train.merge(cnt_curr,how='left',left_index=True,right_index=True)\n",
    "\n",
    "for col in cnt_curr.columns:\n",
    "    plt.figure()\n",
    "    sns.barplot(x=col,y='TARGET',data=df_train)\n",
    "    plt.xticks(rotation=90)"
   ]
  },
  {
   "cell_type": "code",
   "execution_count": null,
   "metadata": {
    "collapsed": true
   },
   "outputs": [],
   "source": [
    "df_bureau['CREDIT_TYPE'].value_counts()\n",
    "\n",
    "cnt_typ = df_bureau.groupby('SK_ID_CURR').CREDIT_TYPE.value_counts().unstack(fill_value=0)\n",
    "cnt_typ.columns = 'BUREAU_CNT_TYPE_'+cnt_typ.columns.values\n",
    "\n",
    "df_train = df_train.merge(cnt_typ,how='left',left_index=True,right_index=True)\n",
    "\n",
    "for col in cnt_typ.columns:\n",
    "    plt.figure()\n",
    "    sns.barplot(x=col,y='TARGET',data=df_train)\n",
    "    plt.xticks(rotation=90)"
   ]
  },
  {
   "cell_type": "code",
   "execution_count": null,
   "metadata": {
    "collapsed": true,
    "scrolled": true
   },
   "outputs": [],
   "source": [
    "df_train['BUREAU_DAY_OVERDUE_MAX'] = df_bureau.groupby('SK_ID_CURR').CREDIT_DAY_OVERDUE.max()\n",
    "df_train['BUREAU_DAY_OVERDUE_MAX'].fillna(0,inplace=True)\n",
    "sns.barplot(x='TARGET',y='BUREAU_DAY_OVERDUE_MAX',data=df_train)\n",
    "\n",
    "df_train['BUREAU_DAY_OVERDUE_MEAN'] = df_bureau.groupby('SK_ID_CURR').CREDIT_DAY_OVERDUE.mean()\n",
    "df_train['BUREAU_DAY_OVERDUE_MEAN'].fillna(0,inplace=True)\n",
    "plt.figure()\n",
    "sns.barplot(x='TARGET',y='BUREAU_DAY_OVERDUE_MEAN',data=df_train)\n",
    "\n",
    "df_train['BUREAU_DAY_OVERDUE_MIN'] = df_bureau.groupby('SK_ID_CURR').CREDIT_DAY_OVERDUE.min()\n",
    "df_train['BUREAU_DAY_OVERDUE_MIN'].fillna(0,inplace=True)\n",
    "plt.figure()\n",
    "sns.barplot(x='TARGET',y='BUREAU_DAY_OVERDUE_MIN',data=df_train)\n",
    "\n",
    "df_train['BUREAU_DAY_OVERDUE_STD'] = df_bureau.groupby('SK_ID_CURR').CREDIT_DAY_OVERDUE.std()\n",
    "df_train['BUREAU_DAY_OVERDUE_STD'].fillna(0,inplace=True)\n",
    "plt.figure()\n",
    "sns.barplot(x='TARGET',y='BUREAU_DAY_OVERDUE_STD',data=df_train)\n",
    "\n",
    "df_train['BUREAU_DAY_OVERDUE_SUM'] = df_bureau.groupby('SK_ID_CURR').CREDIT_DAY_OVERDUE.sum()\n",
    "df_train['BUREAU_DAY_OVERDUE_SUM'].fillna(0,inplace=True)\n",
    "plt.figure()\n",
    "sns.barplot(x='TARGET',y='BUREAU_DAY_OVERDUE_SUM',data=df_train)\n"
   ]
  },
  {
   "cell_type": "code",
   "execution_count": null,
   "metadata": {
    "collapsed": true,
    "scrolled": true
   },
   "outputs": [],
   "source": [
    "df_train['BUREAU_DAYS_ENDDATE_MAX'] = df_bureau.groupby('SK_ID_CURR').DAYS_CREDIT_ENDDATE.max()\n",
    "df_train['BUREAU_DAYS_ENDDATE_MAX'].fillna(0,inplace=True)\n",
    "plt.figure()\n",
    "sns.barplot(x='TARGET',y='BUREAU_DAYS_ENDDATE_MAX',data=df_train)\n",
    "\n",
    "df_train['BUREAU_DAYS_ENDDATE_MEAN'] = df_bureau.groupby('SK_ID_CURR').DAYS_CREDIT_ENDDATE.mean()\n",
    "df_train['BUREAU_DAYS_ENDDATE_MEAN'].fillna(0,inplace=True)\n",
    "plt.figure()\n",
    "sns.barplot(x='TARGET',y='BUREAU_DAYS_ENDDATE_MEAN',data=df_train)\n",
    "\n",
    "df_train['BUREAU_DAYS_ENDDATE_MIN'] = df_bureau.groupby('SK_ID_CURR').DAYS_CREDIT_ENDDATE.min()\n",
    "df_train['BUREAU_DAYS_ENDDATE_MIN'].fillna(0,inplace=True)\n",
    "plt.figure()\n",
    "sns.barplot(x='TARGET',y='BUREAU_DAYS_ENDDATE_MIN',data=df_train)"
   ]
  }
 ],
 "metadata": {
  "kernelspec": {
   "display_name": "Python 3",
   "language": "python",
   "name": "python3"
  },
  "language_info": {
   "codemirror_mode": {
    "name": "ipython",
    "version": 3
   },
   "file_extension": ".py",
   "mimetype": "text/x-python",
   "name": "python",
   "nbconvert_exporter": "python",
   "pygments_lexer": "ipython3",
   "version": "3.6.3"
  }
 },
 "nbformat": 4,
 "nbformat_minor": 2
}
